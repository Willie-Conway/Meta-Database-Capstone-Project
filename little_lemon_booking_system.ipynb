{
 "cells": [
  {
   "cell_type": "markdown",
   "id": "1347b0a8-ef84-44ff-bec5-76dd8da93982",
   "metadata": {},
   "source": [
    "# Setting Up Client Project"
   ]
  },
  {
   "cell_type": "markdown",
   "id": "04a4dd75-0dc2-43f4-8ad2-5998df126a09",
   "metadata": {},
   "source": [
    "## Task 1: Verify Python Installation\n"
   ]
  },
  {
   "cell_type": "markdown",
   "id": "32737961-4aea-4427-b1ab-0954a6daef1d",
   "metadata": {},
   "source": [
    "#### Open your terminal (or command prompt).\n",
    "* Type the following command to check your Python version:"
   ]
  },
  {
   "cell_type": "code",
   "execution_count": 3,
   "id": "839df987-1369-447f-bf81-d661476bc5d4",
   "metadata": {},
   "outputs": [],
   "source": [
    "# Task 1: Check if Python is installed and display its version\n",
    "# python --version"
   ]
  },
  {
   "cell_type": "markdown",
   "id": "4ac9871b-7ec3-4be1-a7d5-fcc6f80ef70d",
   "metadata": {},
   "source": [
    "* Ensure Python 3.x is installed. If an earlier version is installed or Python is not found, download and install   the latest version from python.org."
   ]
  },
  {
   "cell_type": "markdown",
   "id": "1d09bae7-ab1d-454a-8d1b-9ce2e55b3e85",
   "metadata": {},
   "source": [
    "## Task 2: Install Jupyter Notebook"
   ]
  },
  {
   "cell_type": "markdown",
   "id": "18a151e4-b33b-446f-a1b5-9636efa38eab",
   "metadata": {},
   "source": [
    "#### Install Jupyter:\n",
    "* After confirming that Python 3.x is installed, use pip to install Jupyter:"
   ]
  },
  {
   "cell_type": "code",
   "execution_count": 4,
   "id": "cf0d9861-3ffb-4291-b378-3477fb588e93",
   "metadata": {},
   "outputs": [],
   "source": [
    "# Task 2: Install Jupyter Notebook using Python's package manager (pip)\n",
    "# python -m pip install jupyter"
   ]
  },
  {
   "cell_type": "markdown",
   "id": "1fbe68ac-aa33-4163-821f-3a431fa65b6d",
   "metadata": {},
   "source": [
    "#### Launch Jupyter Notebook:\n",
    "* Once Jupyter is installed, run the following command to open Jupyter:"
   ]
  },
  {
   "cell_type": "code",
   "execution_count": 11,
   "id": "eeeb8b7e-848f-45bd-928a-a48db1389f50",
   "metadata": {},
   "outputs": [],
   "source": [
    "# Task 2: Start Jupyter Notebook which will open it in your default browser\n",
    "# jupyter notebook"
   ]
  },
  {
   "cell_type": "markdown",
   "id": "ccc14773-5c4f-4783-a654-2df553131cda",
   "metadata": {},
   "source": [
    "* A browser window should open. Click on the \"New\" button and select \"Python 3 (ipykernel)\" to create a new notebook."
   ]
  },
  {
   "cell_type": "markdown",
   "id": "113d07cb-2d91-4d51-af5c-f52ab5714a89",
   "metadata": {},
   "source": [
    "## Task 3: Set Up MySQL Connector for Python"
   ]
  },
  {
   "cell_type": "markdown",
   "id": "ea4b0d5a-e793-4e75-b221-458a5fefaa77",
   "metadata": {},
   "source": [
    "#### Install MySQL Connector:\n",
    "\n",
    "* Install the MySQL connector library to allow Python to interact with the MySQL database:"
   ]
  },
  {
   "cell_type": "code",
   "execution_count": 6,
   "id": "1d1072bb-cd8e-4596-98df-3f2fa779a3b3",
   "metadata": {},
   "outputs": [
    {
     "name": "stdout",
     "output_type": "stream",
     "text": [
      "Requirement already satisfied: mysql-connector-python in c:\\users\\hirew\\onedrive\\desktop\\littlelemondb\\.venv\\lib\\site-packages (9.0.0)\n",
      "Note: you may need to restart the kernel to use updated packages.\n"
     ]
    }
   ],
   "source": [
    "# Task 3 - Step 1: Install MySQL connector to connect to MySQL databases from Python\n",
    "%pip install mysql-connector-python"
   ]
  },
  {
   "cell_type": "markdown",
   "id": "7b7786d7-8f08-40ed-bfc4-a374bb07006f",
   "metadata": {},
   "source": [
    "#### Import the MySQL Connector:\n",
    "* Install the MySQL connector library to allow Python to interact with the MySQL database:"
   ]
  },
  {
   "cell_type": "code",
   "execution_count": 7,
   "id": "84a5570d-3a0a-4d4f-bab4-b76eaac95b75",
   "metadata": {},
   "outputs": [],
   "source": [
    "# Task 3 - Step 2: Import the MySQL connector and use the alias 'connector'\n",
    "import mysql.connector as connector"
   ]
  },
  {
   "cell_type": "markdown",
   "id": "c634a75f-87f2-4c99-9767-6b49b44605db",
   "metadata": {},
   "source": [
    "#### Establish a Database Connection:\n",
    "* Test if you can successfully connect to your MySQL database by creating a connection object. Replace \"your_user_name\" and \"your_password_for_database\" with your actual credentials:"
   ]
  },
  {
   "cell_type": "code",
   "execution_count": 8,
   "id": "82323313-c190-4bfa-8dc5-14a08a19d082",
   "metadata": {},
   "outputs": [],
   "source": [
    "# Task 3 - Step 3: Create a connection object by providing your MySQL username and password\n",
    "connection = connector.connect(user=\"admin2\", password=\"admin2@123!\")"
   ]
  },
  {
   "cell_type": "code",
   "execution_count": 9,
   "id": "ecc6a438-9eff-47d2-b7fd-af8218670315",
   "metadata": {},
   "outputs": [
    {
     "name": "stdout",
     "output_type": "stream",
     "text": [
      "Connection successful!\n"
     ]
    }
   ],
   "source": [
    "# Task 3 - Step 3: Check if the connection was successful\n",
    "if connection.is_connected():\n",
    "    print(\"Connection successful!\")\n",
    "else:\n",
    "    print(\"Connection failed!\")"
   ]
  }
 ],
 "metadata": {
  "kernelspec": {
   "display_name": "Python 3 (ipykernel)",
   "language": "python",
   "name": "python3"
  },
  "language_info": {
   "codemirror_mode": {
    "name": "ipython",
    "version": 3
   },
   "file_extension": ".py",
   "mimetype": "text/x-python",
   "name": "python",
   "nbconvert_exporter": "python",
   "pygments_lexer": "ipython3",
   "version": "3.12.4"
  }
 },
 "nbformat": 4,
 "nbformat_minor": 5
}
